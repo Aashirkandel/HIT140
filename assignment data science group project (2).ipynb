{
 "cells": [
  {
   "cell_type": "code",
   "execution_count": 15,
   "metadata": {},
   "outputs": [
    {
     "data": {
      "image/png": "[encoded data removed]",
      "text/plain": [
       "<Figure size 640x480 with 1 Axes>"
      ]
     },
     "metadata": {},
     "output_type": "display_data"
    },
    {
     "name": "stdout",
     "output_type": "stream",
     "text": [
      "PearsonRResult(statistic=-0.12110190858878053, pvalue=1.081079e-317)\n",
      "-234.60710860037688 0.0\n",
      "                            OLS Regression Results                            \n",
      "==============================================================================\n",
      "Dep. Variable:        mean_well_being   R-squared:                       0.015\n",
      "Model:                            OLS   Adj. R-squared:                  0.015\n",
      "Method:                 Least Squares   F-statistic:                     1463.\n",
      "Date:                Mon, 09 Sep 2024   Prob (F-statistic):          1.08e-317\n",
      "Time:                        18:59:01   Log-Likelihood:            -1.0096e+05\n",
      "No. Observations:               98278   AIC:                         2.019e+05\n",
      "Df Residuals:                   98276   BIC:                         2.020e+05\n",
      "Df Model:                           1                                         \n",
      "Covariance Type:            nonrobust                                         \n",
      "==================================================================================================\n",
      "                                     coef    std err          t      P>|t|      [0.025      0.975]\n",
      "--------------------------------------------------------------------------------------------------\n",
      "const                              3.5710      0.005    700.105      0.000       3.561       3.581\n",
      "mean_digital_daily_screen_time    -0.0733      0.002    -38.246      0.000      -0.077      -0.070\n",
      "==============================================================================\n",
      "Omnibus:                     2579.917   Durbin-Watson:                   1.823\n",
      "Prob(Omnibus):                  0.000   Jarque-Bera (JB):             2814.847\n",
      "Skew:                          -0.393   Prob(JB):                         0.00\n",
      "Kurtosis:                       3.264   Cond. No.                         7.04\n",
      "==============================================================================\n",
      "\n",
      "Notes:\n",
      "[1] Standard Errors assume that the covariance matrix of the errors is correctly specified.\n"
     ]
    },
    {
     "name": "stderr",
     "output_type": "stream",
     "text": [
      "C:\\Users\\ACER\\AppData\\Local\\Temp\\ipykernel_17960\\2208337220.py:44: SettingWithCopyWarning: \n",
      "A value is trying to be set on a copy of a slice from a DataFrame.\n",
      "Try using .loc[row_indexer,col_indexer] = value instead\n",
      "\n",
      "See the caveats in the documentation: https://pandas.pydata.org/pandas-docs/stable/user_guide/indexing.html#returning-a-view-versus-a-copy\n",
      "  cleaned_dataset['mean_well_being'] = mean_well_being\n",
      "C:\\Users\\ACER\\AppData\\Local\\Temp\\ipykernel_17960\\2208337220.py:45: SettingWithCopyWarning: \n",
      "A value is trying to be set on a copy of a slice from a DataFrame.\n",
      "Try using .loc[row_indexer,col_indexer] = value instead\n",
      "\n",
      "See the caveats in the documentation: https://pandas.pydata.org/pandas-docs/stable/user_guide/indexing.html#returning-a-view-versus-a-copy\n",
      "  cleaned_dataset['mean_digital_daily_screen_time'] = mean_digital_daily_screen_time\n"
     ]
    }
   ],
   "source": [
    "#importing necessary dataset\n",
    "import pandas as pd\n",
    "import numpy as np\n",
    "import matplotlib.pyplot as plt\n",
    "from sklearn.linear_model import LinearRegression\n",
    "import statsmodels.api as sm\n",
    "import scipy.stats\n",
    "\n",
    "#Reading the csv files\n",
    "dataset3 = pd.read_csv(\"C:/Users/Dell/Desktop/Assignment/dataset3.csv\")\n",
    "dataset2 = pd.read_csv(\"C:/Users/Dell/Desktop/Assignment/dataset2.csv\")\n",
    "dataset1 = pd.read_csv(\"C:/Users/Dell/Desktop/Assignment/dataset1.csv\")\n",
    "\n",
    "\n",
    "\n",
    "dataset = dataset1.merge(dataset2, on = \"ID\", how = \"left\")\n",
    "dataset = dataset.merge(dataset3, on=\"ID\", how = 'left')\n",
    "\n",
    "cleaned_dataset = dataset.dropna()\n",
    "cleaned_dataset.isna().sum()\n",
    "\n",
    "cleaned_dataset.head()\n",
    "\n",
    "\n",
    "cleaned_dataset['gender'].value_counts().plot(kind='pie', labels = [\"Others\",\"Male\"])\n",
    "plt.title('Gender Distribution')\n",
    "plt.show()\n",
    "\n",
    "mean_wellbeing = cleaned_dataset.loc[:,('Optm','Usef','Relx','Intp','Engs','Dealpr','Thcklr','Goodme','Clsep','Conf','Mkmind','Loved','Intthg','Cheer')].mean()\n",
    "\n",
    "cleaned_dataset.head()\n",
    "\n",
    "mean_digital_daily_screen_time= cleaned_dataset[['C_we','C_wk','G_we','G_wk','S_we','S_wk','T_we','T_wk']].mean(axis = 1)\n",
    "\n",
    "mean_well_being = cleaned_dataset[['Optm','Usef','Relx','Intp','Engs','Dealpr','Thcklr','Goodme','Clsep','Conf','Mkmind','Loved','Intthg','Cheer']].mean(axis = 1)\n",
    "\n",
    "cleaned_dataset['mean_well_being'] = mean_well_being\n",
    "cleaned_dataset['mean_digital_daily_screen_time'] = mean_digital_daily_screen_time\n",
    "\n",
    "model = LinearRegression()\n",
    "\n",
    "y= cleaned_dataset.iloc[:,-2]\n",
    "x= cleaned_dataset.iloc[:,-1]\n",
    "\n",
    "pearson = scipy.stats.pearsonr(x, y)\n",
    "print(pearson)\n",
    "\n",
    "t_stat, p_value = scipy.stats.ttest_ind(cleaned_dataset['mean_digital_daily_screen_time'], cleaned_dataset['mean_well_being'])\n",
    "\n",
    "print(t_stat,p_value)\n",
    "\n",
    "x = sm.add_constant(x)\n",
    "\n",
    "result = sm.OLS(y,x).fit()\n",
    "\n",
    "\n",
    "print(result.summary())\n",
    "\n",
    "\n",
    "\n"
   ]
  }
 ],
 "metadata": {
  "kernelspec": {
   "display_name": "Python 3",
   "language": "python",
   "name": "python3"
  },
  "language_info": {
   "codemirror_mode": {
    "name": "ipython",
    "version": 3
   },
   "file_extension": ".py",
   "mimetype": "text/x-python",
   "name": "python",
   "nbconvert_exporter": "python",
   "pygments_lexer": "ipython3",
   "version": "3.12.2"
  }
 },
 "nbformat": 4,
 "nbformat_minor": 2
}
